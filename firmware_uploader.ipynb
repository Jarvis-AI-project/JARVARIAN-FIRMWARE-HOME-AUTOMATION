{
    "cells": [
        {
            "cell_type": "code",
            "execution_count": 1,
            "metadata": {},
            "outputs": [
                {
                    "name": "stdout",
                    "output_type": "stream",
                    "text": [
                        "Running on local URL:  http://127.0.0.1:7860\n",
                        "\n",
                        "To create a public link, set `share=True` in `launch()`.\n"
                    ]
                },
                {
                    "data": {
                        "text/html": [
                            "<div><iframe src=\"http://127.0.0.1:7860/\" width=\"900\" height=\"1000\" allow=\"autoplay; camera; microphone; clipboard-read; clipboard-write;\" frameborder=\"0\" allowfullscreen></iframe></div>"
                        ],
                        "text/plain": [
                            "<IPython.core.display.HTML object>"
                        ]
                    },
                    "metadata": {},
                    "output_type": "display_data"
                }
            ],
            "source": [
                "import gradio as gr\n",
                "import requests\n",
                "\n",
                "\n",
                "def uploader(IP, Update_type, firmware=None, filesystem=None):\n",
                "\n",
                "    if Update_type not in [\"firmware\", \"filesystem\"]:\n",
                "        return \"Invalid upload type. Choose 'firmware' or 'filesystem'.\"\n",
                "\n",
                "    if Update_type == \"firmware\":\n",
                "        file_name = \"firmware.bin\"\n",
                "        with open(firmware, \"rb\") as f:\n",
                "            file_data = f.read()\n",
                "    elif Update_type == \"filesystem\":\n",
                "        file_name = \"filesystem.bin\"\n",
                "        with open(filesystem, \"rb\") as f:\n",
                "            file_data = f.read()\n",
                "\n",
                "    if not file_data:\n",
                "        return f\"Error: {Update_type} file not provided.\"\n",
                "\n",
                "    url = f\"http://{IP}/otaupdate\"\n",
                "\n",
                "    response = requests.post(url, files={file_name: file_data}, headers={\n",
                "                             \"Content-Type\": \"application/octet-stream\", \"X-OTA-PASSWORD\": \"admin\"})\n",
                "\n",
                "    if response.status_code == 200:\n",
                "        return f\"{Update_type.capitalize()} uploaded successfully\"\n",
                "    else:\n",
                "        try:\n",
                "            error_message = response.text\n",
                "        except UnicodeDecodeError:\n",
                "            error_message = \"Error decoding response content\"\n",
                "\n",
                "        return f\"Error uploading {Update_type}: {error_message}\"\n",
                "\n",
                "iface = gr.Interface(\n",
                "    fn=uploader,\n",
                "    inputs=[\n",
                "        gr.Textbox(label=\"IP Address\", lines=1, type=\"text\"),\n",
                "        gr.Dropdown([\"firmware\", \"filesystem\"],\n",
                "                    label=\"Update Type\", interactive=True),\n",
                "        gr.File(label=\"Firmware\", type=\"filepath\"),\n",
                "        gr.File(label=\"Filesystem\", type=\"filepath\")\n",
                "    ],\n",
                "    outputs=\"text\",\n",
                "    title=\"FIRMWARE UPLOADER\",\n",
                "    description=\"Upload firmware and filesystem to the device\"\n",
                ")\n",
                "\n",
                "if __name__ == \"__main__\":\n",
                "    iface.launch(show_api=False, width=900, height=1000, show_error=True)"
            ]
        }
    ],
    "metadata": {
        "kernelspec": {
            "display_name": "Pytorch",
            "language": "python",
            "name": "python3"
        },
        "language_info": {
            "codemirror_mode": {
                "name": "ipython",
                "version": 3
            },
            "file_extension": ".py",
            "mimetype": "text/x-python",
            "name": "python",
            "nbconvert_exporter": "python",
            "pygments_lexer": "ipython3",
            "version": "3.11.5"
        }
    },
    "nbformat": 4,
    "nbformat_minor": 2
}
