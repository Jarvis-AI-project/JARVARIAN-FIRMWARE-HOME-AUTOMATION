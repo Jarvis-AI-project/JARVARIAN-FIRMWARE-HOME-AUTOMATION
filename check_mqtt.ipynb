{
 "cells": [
  {
   "cell_type": "code",
   "execution_count": 1,
   "metadata": {},
   "outputs": [],
   "source": [
    "import paho.mqtt.client as mqtt\n",
    "import json\n",
    "import time\n",
    "import multiprocessing\n"
   ]
  },
  {
   "cell_type": "code",
   "execution_count": 2,
   "metadata": {},
   "outputs": [],
   "source": [
    "# Read the config file and get the values\n",
    "with open('data/config.json', 'r', encoding='utf-8') as json_data_file:\n",
    "    config = json.load(json_data_file)\n",
    "\n",
    "mqtt_host = config['mqtt']['host']\n",
    "username = config['mqtt']['username']\n",
    "password = config['mqtt']['password']\n",
    "topic = config['mqtt']['topic']\n"
   ]
  },
  {
   "cell_type": "code",
   "execution_count": 3,
   "metadata": {},
   "outputs": [
    {
     "data": {
      "text/plain": [
       "0"
      ]
     },
     "execution_count": 3,
     "metadata": {},
     "output_type": "execute_result"
    }
   ],
   "source": [
    "mqttc = mqtt.Client()\n",
    "mqttc.username_pw_set(username, password)\n",
    "mqttc.connect(mqtt_host, 1883, 60)\n"
   ]
  },
  {
   "cell_type": "code",
   "execution_count": 4,
   "metadata": {},
   "outputs": [],
   "source": [
    "DEVICE_NAME = \"BLUE_LED\"\n"
   ]
  },
  {
   "cell_type": "markdown",
   "metadata": {},
   "source": [
    "### Check State"
   ]
  },
  {
   "cell_type": "code",
   "execution_count": 6,
   "metadata": {},
   "outputs": [
    {
     "data": {
      "text/plain": [
       "<paho.mqtt.client.MQTTMessageInfo at 0x10853f510>"
      ]
     },
     "execution_count": 6,
     "metadata": {},
     "output_type": "execute_result"
    }
   ],
   "source": [
    "current_state_message = {\n",
    "    'origin': 'check_mqtt.ipynb',\n",
    "    'messageType': 'current_state',\n",
    "    'message': {\n",
    "        'device_id': DEVICE_NAME,\n",
    "    }\n",
    "}\n",
    "\n",
    "mqttc.publish(topic, json.dumps(current_state_message))\n"
   ]
  },
  {
   "cell_type": "markdown",
   "metadata": {},
   "source": [
    "### Change State"
   ]
  },
  {
   "cell_type": "code",
   "execution_count": 12,
   "metadata": {},
   "outputs": [
    {
     "data": {
      "text/plain": [
       "<paho.mqtt.client.MQTTMessageInfo at 0x1080b22f0>"
      ]
     },
     "execution_count": 12,
     "metadata": {},
     "output_type": "execute_result"
    }
   ],
   "source": [
    "change_state_message = {\n",
    "    'origin': 'check_mqtt.ipynb',\n",
    "    'messageType': 'change_state',\n",
    "    'message': {\n",
    "        'device_id': 'BLUE_LED',\n",
    "        'state': 'OFF'\n",
    "    }\n",
    "}\n",
    "\n",
    "mqttc.publish(topic, json.dumps(change_state_message))\n"
   ]
  }
 ],
 "metadata": {
  "kernelspec": {
   "display_name": "Python 3",
   "language": "python",
   "name": "python3"
  },
  "language_info": {
   "codemirror_mode": {
    "name": "ipython",
    "version": 3
   },
   "file_extension": ".py",
   "mimetype": "text/x-python",
   "name": "python",
   "nbconvert_exporter": "python",
   "pygments_lexer": "ipython3",
   "version": "3.11.4"
  }
 },
 "nbformat": 4,
 "nbformat_minor": 2
}
